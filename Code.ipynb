{
 "cells": [
  {
   "cell_type": "markdown",
   "metadata": {},
   "source": [
    "# ASK 1"
   ]
  },
  {
   "cell_type": "markdown",
   "metadata": {},
   "source": [
    "<i><b>Location where the most number of funding is done means, location where startups has received funding maximum number of times.\n",
    "can choose only between three locations -  Bangalore, Mumbai, and NCR. </i></b>"
   ]
  },
  {
   "cell_type": "code",
   "execution_count": 1,
   "metadata": {},
   "outputs": [],
   "source": [
    "# lets import needed python libraries like pandas , numpy and matplotlib\n",
    "\n",
    "import numpy as np\n",
    "import pandas as pd\n",
    "import matplotlib.pyplot as plt\n",
    "import matplotlib.style as style\n"
   ]
  },
  {
   "cell_type": "code",
   "execution_count": 2,
   "metadata": {},
   "outputs": [],
   "source": [
    "# Now lets make a dataframe of startup csv file\n",
    "\n",
    "startup = pd.read_csv(r\"C:\\Users\\vigya\\PycharmProjects\\Temp1Learn\\startup_funding.csv\")\n",
    "df = startup.copy()"
   ]
  },
  {
   "cell_type": "code",
   "execution_count": 3,
   "metadata": {},
   "outputs": [],
   "source": [
    "# For our task lets make a reference to the column \"CityLocation\" and drop the NaN values from it\n",
    "\n",
    "c = df[\"CityLocation\"]\n",
    "c.dropna(inplace=True)"
   ]
  },
  {
   "cell_type": "code",
   "execution_count": 4,
   "metadata": {},
   "outputs": [],
   "source": [
    "# Converting the particular column to \"c\" numpy array and changing all \"Delhi\" -> \"New Delhi\" & \"bangalore\" -> \"Bangalore\"\n",
    "\n",
    "c = c.values\n",
    "c[c == \"Delhi\"] = \"New Delhi\"\n",
    "c[c == \"bangalore\"] = \"Bangalore\""
   ]
  },
  {
   "cell_type": "code",
   "execution_count": 5,
   "metadata": {},
   "outputs": [],
   "source": [
    "# Traversed through the \"c\" numpy array and appended normally or after spliting on \" / \" to a new list \"city\"\n",
    "# only if location is 'Bangalore' or 'Mumbai' or 'New Delhi' or 'Noida' or 'Gurgaon'\n",
    "\n",
    "city = []\n",
    "for i in range(c.size):\n",
    "    if \" / \" in c[i]:\n",
    "        temp = c[i].split(\" / \")\n",
    "        for j in temp:\n",
    "            if j == 'Bangalore' or j == 'Mumbai' or j == 'New Delhi' or j == 'Noida' or j == 'Gurgaon':\n",
    "                city.append(j)\n",
    "    else:\n",
    "        if c[i] == 'Bangalore' or c[i] == 'Mumbai' or c[i] == 'New Delhi' or c[i] == 'Noida' or c[i] == 'Gurgaon':\n",
    "            city.append(c[i])"
   ]
  },
  {
   "cell_type": "code",
   "execution_count": 6,
   "metadata": {},
   "outputs": [],
   "source": [
    "# Converting list to nparray and finding its unique elements int \"loc\" and its corresponding counts into \"fundtimes\"\n",
    "#also making a copy of counts for use in furthur plotting graph\n",
    "\n",
    "city = np.array(city)\n",
    "uncity = np.unique(city, return_counts=True)\n",
    "loc = uncity[0]\n",
    "fundtimes = uncity[1]\n",
    "barfundtimes = uncity[1].copy()"
   ]
  },
  {
   "cell_type": "code",
   "execution_count": 7,
   "metadata": {},
   "outputs": [
    {
     "name": "stdout",
     "output_type": "stream",
     "text": [
      "Bangalore 635\n",
      "Mumbai 449\n",
      "New Delhi 388\n",
      "Gurgaon 241\n",
      "Noida 79\n"
     ]
    }
   ],
   "source": [
    "# Taversing through \"loc\" - unique elements finding max index and fetching city with max time it got investment\n",
    "# making current fundtime i.e max index as 0 so that furthur on next traversal it is not maximum\n",
    "\n",
    "for i in range(loc.size):\n",
    "    ind = np.argmax(fundtimes)\n",
    "    print(loc[ind], fundtimes[ind])\n",
    "    fundtimes[ind] = 0"
   ]
  },
  {
   "cell_type": "code",
   "execution_count": 8,
   "metadata": {},
   "outputs": [
    {
     "name": "stderr",
     "output_type": "stream",
     "text": [
      "<ipython-input-8-99259ccd2f3f>:5: MatplotlibDeprecationWarning: Case-insensitive properties were deprecated in 3.3 and support will be removed two minor releases later\n",
      "  plt.text(i, barfundtimes[i]//2, barfundtimes[i], ha='center', Bbox=dict(facecolor='white', alpha=0.3))\n"
     ]
    },
    {
     "data": {
      "image/png": "[encoded data removed]",
      "text/plain": [
       "<Figure size 432x288 with 1 Axes>"
      ]
     },
     "metadata": {
      "needs_background": "light"
     },
     "output_type": "display_data"
    },
    {
     "data": {
      "text/plain": [
       "<Figure size 1152x648 with 0 Axes>"
      ]
     },
     "metadata": {},
     "output_type": "display_data"
    }
   ],
   "source": [
    "# As we have recieved the required details we will plot a bar graph \n",
    "\n",
    "def labels(loc, barfundtimes):\n",
    "    for i in range(loc.size):\n",
    "        plt.text(i, barfundtimes[i]//2, barfundtimes[i], ha='center', Bbox=dict(facecolor='white', alpha=0.3))\n",
    "\n",
    "plt.bar(loc, barfundtimes, width=0.6, color=['black', 'red', 'green', 'blue', 'cyan'], edgecolor=\"blue\", linewidth=1, alpha=0.8)\n",
    "labels(loc, barfundtimes)\n",
    "style.use('ggplot')\n",
    "plt.title(\"Reference for Perfect Location\", size=25)\n",
    "plt.xticks(rotation=40)\n",
    "plt.xlabel(\"Cities\", size = 18)\n",
    "plt.ylabel(\"No. of times funding done\", size = 18)\n",
    "plt.grid()\n",
    "plt.figure(figsize=(16, 9))\n",
    "plt.show()\n"
   ]
  },
  {
   "cell_type": "markdown",
   "metadata": {},
   "source": [
    "<b><a1><u>Answer to ASK 1</u></a1></b>\n",
    "<i>It can bee clearly seen in output as well as in graph that Bangalore can be considered as the perfect location as startups have received funding maximum number of times in Bangalore.</i>"
   ]
  },
  {
   "cell_type": "markdown",
   "metadata": {},
   "source": [
    "# ASK 2"
   ]
  },
  {
   "cell_type": "markdown",
   "metadata": {},
   "source": [
    "<i><b>Top 5 investors who have invested maximum number of times\n",
    "    consider repeat investments in one company also.\n",
    "    keeping in mind to ignore undisclosed investors</i></b>"
   ]
  },
  {
   "cell_type": "code",
   "execution_count": 9,
   "metadata": {},
   "outputs": [],
   "source": [
    "# Lets take the column \"InvestorsName\" and create a reference to it and drop all NaN values from it and create it as a nparray\n",
    "\n",
    "investor = df[\"InvestorsName\"]\n",
    "investor.dropna(inplace=True)\n",
    "investor = investor.values"
   ]
  },
  {
   "cell_type": "code",
   "execution_count": 10,
   "metadata": {},
   "outputs": [],
   "source": [
    "# \"InvestorsName\" has \", \" -> comma and space seprated values \n",
    "# We will split on this basis \", \" and append them also in f1investor\n",
    "\n",
    "f1investor = []\n",
    "for i in range(investor.size):\n",
    "    if \", \" in investor[i]:\n",
    "        temp = investor[i].split(\", \")\n",
    "        for j in temp:\n",
    "            f1investor.append(j)\n",
    "    else:\n",
    "        f1investor.append(investor[i])"
   ]
  },
  {
   "cell_type": "code",
   "execution_count": 11,
   "metadata": {},
   "outputs": [],
   "source": [
    "# f1investor also has only comma seprated values now now \",\"\n",
    "# we will again split f1investor on the basis of \",\" and append it in finvestor\n",
    "# Also we will include conditon of not including if it has Others / empty / undisclosed\n",
    "\n",
    "finvestor = []\n",
    "for i in range(len(f1investor)):\n",
    "    if \",\" in f1investor[i]:\n",
    "        temp = f1investor[i].split(\",\")\n",
    "        for j in temp:\n",
    "            if \"Others\" in j or \"Undisclosed\" in j or j == \"\":\n",
    "                continue\n",
    "            finvestor.append(j)\n",
    "    else:\n",
    "        if \"Others\" in f1investor[i] or \"Undisclosed\" in f1investor[i] or f1investor[i] == \"\":\n",
    "            continue\n",
    "        finvestor.append(f1investor[i])\n"
   ]
  },
  {
   "cell_type": "code",
   "execution_count": 12,
   "metadata": {},
   "outputs": [],
   "source": [
    "# Now we have finvestor containing all seprate values i.e seprate names of investors\n",
    "# We will get unique investors and their count by :\n",
    "\n",
    "uinvestor = np.unique(finvestor, return_counts=True)\n",
    "inv = uinvestor[0]\n",
    "count = uinvestor[1]"
   ]
  },
  {
   "cell_type": "code",
   "execution_count": 13,
   "metadata": {},
   "outputs": [],
   "source": [
    "# For storing data to creat a pie chart we can have seprate empty list\n",
    "\n",
    "piecount = []\n",
    "pieinv = []"
   ]
  },
  {
   "cell_type": "code",
   "execution_count": 14,
   "metadata": {},
   "outputs": [
    {
     "name": "stdout",
     "output_type": "stream",
     "text": [
      "Sequoia Capital 64\n",
      "Accel Partners 52\n",
      "Kalaari Capital 44\n",
      "Indian Angel Network 40\n",
      "SAIF Partners 40\n"
     ]
    }
   ],
   "source": [
    "# Now we will run loop for 5 times and find max index on basis of count each time \n",
    "# Using that index print investor name and its corresponding count \n",
    "# Then making that count location 0 , so that next time 2nd heighest will be taken as max\n",
    "# Also side by side appending elements in empty list we took for creating Pie chart later\n",
    "\n",
    "for i in range(5):\n",
    "    ind = np.argmax(count)\n",
    "    print(inv[ind], count[ind])\n",
    "    piecount.append(count[ind])\n",
    "    pieinv.append(inv[ind])\n",
    "    count[ind] = 0"
   ]
  },
  {
   "cell_type": "code",
   "execution_count": 15,
   "metadata": {},
   "outputs": [
    {
     "data": {
      "image/png": "[encoded data removed]",
      "text/plain": [
       "<Figure size 432x288 with 1 Axes>"
      ]
     },
     "metadata": {},
     "output_type": "display_data"
    },
    {
     "data": {
      "text/plain": [
       "<Figure size 1152x648 with 0 Axes>"
      ]
     },
     "metadata": {},
     "output_type": "display_data"
    }
   ],
   "source": [
    "# Plotting pie Chart\n",
    "\n",
    "plt.pie(piecount, labels=pieinv, autopct=\"%.2f%%\", counterclock=False, startangle=90,\n",
    "        explode=[0.1, 0, 0, 0, 0], shadow=True)\n",
    "style.use('ggplot')\n",
    "plt.title(\"Top 5 Investors\", size=25)\n",
    "plt.grid()\n",
    "plt.figure(figsize=(16, 9))\n",
    "plt.show()"
   ]
  },
  {
   "cell_type": "markdown",
   "metadata": {},
   "source": [
    "<b><a1><u>Answer to ASK 2</u></a1></b>\n",
    "<i> Pie chart clearly specifies the top 5 investors , and among them \"Sequoia Capital\" has done maximum investment overall. </i>"
   ]
  },
  {
   "cell_type": "markdown",
   "metadata": {},
   "source": [
    "# ASK 3"
   ]
  },
  {
   "cell_type": "markdown",
   "metadata": {},
   "source": [
    "<i><b>Top 5 investors who have invested maximum number of times in different companies <br> errors in startup names - important ones - Ola, Flipkart, Oyo and Paytm.</i></b>"
   ]
  },
  {
   "cell_type": "code",
   "execution_count": 16,
   "metadata": {},
   "outputs": [],
   "source": [
    "# For this ask we will work upon two columns \"InvestorsName\" & \"StartupName\"\n",
    "# For \"InvestorsName\" we already had a list finvestor containing all seprate values i.e seprate names of investors\n",
    "# For \"StartupName\" we will take this column values in nparray\n",
    "\n",
    "startup = df[\"StartupName\"].values"
   ]
  },
  {
   "cell_type": "code",
   "execution_count": 17,
   "metadata": {},
   "outputs": [],
   "source": [
    "# Now we will set up conditions for corrections in important startups\n",
    "\n",
    "startup[startup == \"Oyorooms\"] = \"Oyo\"\n",
    "startup[startup == \"Oyo Rooms\"] = \"Oyo\"\n",
    "startup[startup == \"OYO Rooms\"] = \"Oyo\"\n",
    "startup[startup == \"OyoRooms\"] = \"Oyo\"\n",
    "\n",
    "startup[startup == \"Ola Cabs\"] = \"Ola\"\n",
    "startup[startup == \"Olacabs\"] = \"Ola\"\n",
    "\n",
    "startup[startup == \"Flipkart.com\"] = \"Flipkart\"\n",
    "\n",
    "startup[startup == \"Paytm Marketplace\"] = \"Paytm\""
   ]
  },
  {
   "cell_type": "code",
   "execution_count": 18,
   "metadata": {},
   "outputs": [],
   "source": [
    "# We have corrected startup column now we will work on investorname column\n",
    "# We will fill NaN values in \"InvestorsName\" with some unknown value -> \"xx\" and then converting it to nparray\n",
    "\n",
    "investor = df[\"InvestorsName\"]\n",
    "investor.fillna(\"xx\", inplace=True)\n",
    "investor = investor.values"
   ]
  },
  {
   "cell_type": "code",
   "execution_count": 19,
   "metadata": {},
   "outputs": [],
   "source": [
    "# Here size of both \"InvestorsName\" & \"StartupName\" is same \n",
    "# We also have finvestor which is containing all seprate values i.e seprate names of investors\n",
    "# We will take unique investors name from finvestor into uinvestor \n",
    "\n",
    "uinvestor = np.unique(finvestor)\n"
   ]
  },
  {
   "cell_type": "code",
   "execution_count": 20,
   "metadata": {},
   "outputs": [],
   "source": [
    "# Now we will Traverse over investorName and Split elements firstly on the basis of \", \" \n",
    "# And inplace of appending into other list we will place after spliting at that particular location only\n",
    "\n",
    "for i in range(investor.size):\n",
    "    if \", \" in investor[i]:\n",
    "        investor[i] = investor[i].split(\", \")\n",
    "        \n",
    "# Now we have list in place of elements which had \", \" (comma with space) in them\n",
    "# But there are certain elements which also had only \",\" (comma) in them \n",
    "# So we will again Traverse over investorName and Split elements secondly on the basis of \",\" \n",
    "# And inplace of appending into other list we will place after spliting at that particular location only\n",
    "\n",
    "for i in range(investor.size):\n",
    "    if type(investor[i]) is list:\n",
    "        for j in range(len(investor[i])):\n",
    "            if \",\" in investor[i][j]:\n",
    "                investor[i][j] = investor[i][j].split(\",\")\n",
    "# Now we have a list in place of elements which had \",\" (comma) in them\n",
    "# That is we may have list inside list in place of elements\n",
    "# so, investor is having string elements , list having strng elements , list having string and list also\n"
   ]
  },
  {
   "cell_type": "code",
   "execution_count": 21,
   "metadata": {},
   "outputs": [],
   "source": [
    "# Lets Now take an empty list \"checkinvestor\" and a dictonary with empty string of keys startup column\n",
    "\n",
    "checkinvestor = []\n",
    "tempdic = {}\n",
    "for i in startup:\n",
    "    tempdic[i] = \"\""
   ]
  },
  {
   "cell_type": "code",
   "execution_count": 22,
   "metadata": {},
   "outputs": [],
   "source": [
    "# We will Traverse over Unique Investors (uinvestor) we created from finvestor\n",
    "# take each its element (inve) and then traverse over just created investor \n",
    "# if investor has the unique investors name (inve) \n",
    "# we will check if unique investors name (inve) is in dictonary with correcponding starupname as key\n",
    "# if yes we will pass this iteration\n",
    "# if not , we will add the string (unique investors name (inve)) in dictonary with correcponding starupname as key\n",
    "# And append the empty list \"checkinvestor\" with the unique investor name(inve)\n",
    "\n",
    "for inve in uinvestor:\n",
    "    for i in range(len(investor)):\n",
    "        if inve in investor[i]:\n",
    "            if inve in tempdic[startup[i]]:\n",
    "                continue\n",
    "            else:\n",
    "                tempdic[startup[i]] += inve\n",
    "                checkinvestor.append(inve)"
   ]
  },
  {
   "cell_type": "code",
   "execution_count": 23,
   "metadata": {},
   "outputs": [],
   "source": [
    "# Now we will will get unique investors from just created list \"checkinvestor\" with their corresponding counts\n",
    "\n",
    "checkinvestor = np.array(checkinvestor)\n",
    "ucheckinvestor = np.unique(checkinvestor, return_counts=True)\n",
    "\n",
    "# Unique investors name\n",
    "\n",
    "uin = ucheckinvestor[0]\n",
    "\n",
    "# Unique investors counts\n",
    "\n",
    "uco = ucheckinvestor[1]"
   ]
  },
  {
   "cell_type": "code",
   "execution_count": 24,
   "metadata": {},
   "outputs": [],
   "source": [
    "# For storing data to create a pie chart we can have seprate empty list\n",
    "\n",
    "pieinv = []\n",
    "piecount = []"
   ]
  },
  {
   "cell_type": "code",
   "execution_count": 25,
   "metadata": {},
   "outputs": [
    {
     "name": "stdout",
     "output_type": "stream",
     "text": [
      "Accel Partners 49\n",
      "Sequoia Capital 48\n",
      "Kalaari Capital 42\n",
      "Indian Angel Network 40\n",
      "Blume Ventures 37\n"
     ]
    }
   ],
   "source": [
    "# Now we will run loop for 5 times and find max index on basis of count each time \n",
    "# Using that index print investor name and its corresponding count \n",
    "# Then making that count location 0 , so that next time 2nd heighest will be taken as max\n",
    "# Also side by side appending elements in empty list we took for creating Pie chart later\n",
    "\n",
    "for i in range(5):\n",
    "    ind = np.argmax(uco)\n",
    "    print(uin[ind], uco[ind])\n",
    "    pieinv.append(uin[ind])\n",
    "    piecount.append(uco[ind])\n",
    "    uco[ind] = 0"
   ]
  },
  {
   "cell_type": "code",
   "execution_count": 26,
   "metadata": {},
   "outputs": [
    {
     "data": {
      "image/png": "[encoded data removed]",
      "text/plain": [
       "<Figure size 432x288 with 1 Axes>"
      ]
     },
     "metadata": {},
     "output_type": "display_data"
    },
    {
     "data": {
      "text/plain": [
       "<Figure size 1152x648 with 0 Axes>"
      ]
     },
     "metadata": {},
     "output_type": "display_data"
    }
   ],
   "source": [
    "# plotting Pie chart\n",
    "\n",
    "plt.pie(piecount, labels=pieinv, autopct=\"%.2f%%\", counterclock=False, startangle=90,\n",
    "        explode=[0.1, 0, 0, 0, 0], shadow=True)\n",
    "style.use('ggplot')\n",
    "plt.title(\"Top 5 Investors (Different Companies)\", size=20)\n",
    "plt.grid()\n",
    "plt.figure(figsize=(16, 9))\n",
    "plt.show()"
   ]
  },
  {
   "cell_type": "markdown",
   "metadata": {},
   "source": [
    "<b><a1><u>Answer to ASK 3</u></a1></b>\n",
    "<i>  Pie chart clearly specifies the top 5 investors , and among them \"Accel Partners\" has done maximum investment in diffrent companies. </i>"
   ]
  },
  {
   "cell_type": "markdown",
   "metadata": {},
   "source": [
    "# ASK 4"
   ]
  },
  {
   "cell_type": "markdown",
   "metadata": {},
   "source": [
    "<i><b>Top 5 investors who have invested maximum number of times in different companies <br> investment type is Crowdfunding or Seed Funding. <br> Correct spelling of investment types are - \"Private Equity\", \"Seed Funding\", \"Debt Funding\", and \"Crowd Funding\" <br>  errors in startup names - important ones - Ola, Flipkart, Oyo and Paytm.</i></b>"
   ]
  },
  {
   "cell_type": "code",
   "execution_count": 27,
   "metadata": {},
   "outputs": [],
   "source": [
    "# For this ask we will work upon three columns \"InvestorsName\" & \"StartupName\" & \"InvestmentType\"\n",
    "# For \"InvestorsName\" we already had a list finvestor containing all seprate values i.e seprate names of investors\n",
    "# and we made a unique invetors name from finster -> uinvestor\n",
    "# We also have investor with string elements , list having strng elements , list having string and list also\n",
    "# We have startup with all the corrections made in startupname\n",
    "# We just need to get investmentType done."
   ]
  },
  {
   "cell_type": "code",
   "execution_count": 28,
   "metadata": {},
   "outputs": [],
   "source": [
    "# Taking \"InvestmentType\" column and filling all NaN with temporary value - > \"xx\"\n",
    "# And then converting it to nparray\n",
    "\n",
    "df[\"InvestmentType\"].fillna(\"xx\", inplace=True)\n",
    "investmenttype = df[\"InvestmentType\"].values\n"
   ]
  },
  {
   "cell_type": "code",
   "execution_count": 29,
   "metadata": {},
   "outputs": [],
   "source": [
    "# Correct spelling of investment types\n",
    "\n",
    "investmenttype[investmenttype == \"Crowd funding\"] = 'Crowd Funding'\n",
    "investmenttype[investmenttype == 'SeedFunding'] = 'Seed Funding'\n",
    "investmenttype[investmenttype == 'PrivateEquity'] = 'Private Equity'"
   ]
  },
  {
   "cell_type": "code",
   "execution_count": 30,
   "metadata": {},
   "outputs": [],
   "source": [
    "# Lets Now take an empty list \"checkinvestor\" and a dictonary with empty string of keys startup column\n",
    "\n",
    "checkinvestor = []\n",
    "tempdic = {}\n",
    "for i in startup:\n",
    "    tempdic[i] = \"\""
   ]
  },
  {
   "cell_type": "code",
   "execution_count": 31,
   "metadata": {},
   "outputs": [],
   "source": [
    "# We will Traverse over Unique Investors (uinvestor) we created from finvestor\n",
    "# take each its element (inve) and then traverse over just created investor \n",
    "# if investor has the unique investors name (inve) \n",
    "# we will check if unique investors name (inve) is in dictonary with correcponding starupname as key\n",
    "# if yes we will pass this iteration\n",
    "# if not , we will check if investmenttype is \"Crowd Funding\" or 'Seed Funding'\n",
    "# we will add the string (unique investors name (inve)) in dictonary with correcponding starupname as key\n",
    "# And append the empty list \"checkinvestor\" with the unique investor name(inve)\n",
    "\n",
    "for inve in uinvestor:\n",
    "    for i in range(len(investor)):\n",
    "        if inve in investor[i]:\n",
    "            if inve in tempdic[startup[i]]:\n",
    "                continue\n",
    "            else:\n",
    "                if investmenttype[i] == \"Crowd Funding\" or investmenttype[i] == 'Seed Funding':\n",
    "                    tempdic[startup[i]] += inve\n",
    "                    checkinvestor.append(inve)"
   ]
  },
  {
   "cell_type": "code",
   "execution_count": 32,
   "metadata": {},
   "outputs": [],
   "source": [
    "# Now we will will get unique investors from just created list \"checkinvestor\" with their corresponding counts\n",
    "\n",
    "checkinvestor = np.array(checkinvestor)\n",
    "ucheckinvestor = np.unique(checkinvestor, return_counts=True)\n",
    "\n",
    "# Unique investors name\n",
    "\n",
    "uin = ucheckinvestor[0]\n",
    "\n",
    "# Unique investors counts\n",
    "\n",
    "uco = ucheckinvestor[1]"
   ]
  },
  {
   "cell_type": "code",
   "execution_count": 33,
   "metadata": {},
   "outputs": [],
   "source": [
    "# For storing data to create a pie chart we can have seprate empty list\n",
    "\n",
    "pieinv = []\n",
    "piecount = []"
   ]
  },
  {
   "cell_type": "code",
   "execution_count": 34,
   "metadata": {},
   "outputs": [
    {
     "name": "stdout",
     "output_type": "stream",
     "text": [
      "Indian Angel Network 33\n",
      "Rajan Anandan 21\n",
      "Anupam Mittal 16\n",
      "Group of Angel Investors 16\n",
      "LetsVenture 15\n"
     ]
    }
   ],
   "source": [
    "# Now we will run loop for 5 times and find max index on basis of count each time \n",
    "# Using that index print investor name and its corresponding count \n",
    "# Then making that count location 0 , so that next time 2nd heighest will be taken as max\n",
    "# Also side by side appending elements in empty list we took for creating Pie chart later\n",
    "\n",
    "for i in range(5):\n",
    "    ind = np.argmax(uco)\n",
    "    print(uin[ind], uco[ind])\n",
    "    pieinv.append(uin[ind])\n",
    "    piecount.append(uco[ind])\n",
    "    uco[ind] = 0"
   ]
  },
  {
   "cell_type": "code",
   "execution_count": 35,
   "metadata": {},
   "outputs": [
    {
     "data": {
      "image/png": "[encoded data removed]",
      "text/plain": [
       "<Figure size 432x288 with 1 Axes>"
      ]
     },
     "metadata": {},
     "output_type": "display_data"
    },
    {
     "data": {
      "text/plain": [
       "<Figure size 1152x648 with 0 Axes>"
      ]
     },
     "metadata": {},
     "output_type": "display_data"
    }
   ],
   "source": [
    "# Plotting Pie Chart\n",
    "\n",
    "plt.pie(piecount, labels=pieinv, autopct=\"%.2f%%\", counterclock=False, startangle=90,\n",
    "        explode=[0.1, 0, 0, 0, 0], shadow=True)\n",
    "style.use('ggplot')\n",
    "plt.title(\"Top 5 Investors (For Early stage investor)\", size=20)\n",
    "plt.grid()\n",
    "plt.figure(figsize=(16, 9))\n",
    "plt.show()"
   ]
  },
  {
   "cell_type": "markdown",
   "metadata": {},
   "source": [
    "<b><a1><u>Answer to ASK 4</u></a1></b>\n",
    "<i>  Pie chart clearly specifies the top 5 investors , and among them \"Indian Angel Network\" has done maximum investment in diffrent companies <br> and investmenttype is \"Crowd Funding\" or 'Seed Funding' for early stage </i>"
   ]
  },
  {
   "cell_type": "markdown",
   "metadata": {},
   "source": [
    "# ASK 5"
   ]
  },
  {
   "cell_type": "markdown",
   "metadata": {},
   "source": [
    "<i><b>Top 5 investors who have invested maximum number of times in different companies <br> investment type is Private Equity <br> Correct spelling of investment types are - \"Private Equity\", \"Seed Funding\", \"Debt Funding\", and \"Crowd Funding\" <br>  errors in startup names - important ones - Ola, Flipkart, Oyo and Paytm.</i></b>"
   ]
  },
  {
   "cell_type": "code",
   "execution_count": 36,
   "metadata": {},
   "outputs": [],
   "source": [
    "# For this ask we will work upon three columns \"InvestorsName\" & \"StartupName\" & \"InvestmentType\"\n",
    "# For \"InvestorsName\" we already had a list finvestor containing all seprate values i.e seprate names of investors\n",
    "# and we made a unique investors name from finvestor -> uinvestor\n",
    "# We also have investor with string elements , list having strng elements , list having string and list also\n",
    "# We have startup with all the corrections made in startupname\n",
    "# We also have investmentType done."
   ]
  },
  {
   "cell_type": "code",
   "execution_count": 37,
   "metadata": {},
   "outputs": [],
   "source": [
    "# Lets Now take an empty list \"checkinvestor\" and a dictonary with empty string of keys startup column\n",
    "\n",
    "checkinvestor = []\n",
    "tempdic = {}\n",
    "for i in startup:\n",
    "    tempdic[i] = \"\""
   ]
  },
  {
   "cell_type": "code",
   "execution_count": 38,
   "metadata": {},
   "outputs": [],
   "source": [
    "# We will Traverse over Unique Investors (uinvestor) we created from finvestor\n",
    "# take each its element (inve) and then traverse over just created investor \n",
    "# if investor has the unique investors name (inve) \n",
    "# we will check if unique investors name (inve) is in dictonary with correcponding starupname as key\n",
    "# if yes we will pass this iteration\n",
    "# if not , we will check if investmenttype is \"Private Equity\"\n",
    "# we will add the string (unique investors name (inve)) in dictonary with correcponding starupname as key\n",
    "# And append the empty list \"checkinvestor\" with the unique investor name(inve)\n",
    "\n",
    "for inve in uinvestor:\n",
    "    for i in range(len(investor)):\n",
    "        if inve in investor[i]:\n",
    "            if inve in tempdic[startup[i]]:\n",
    "                continue\n",
    "            else:\n",
    "                if investmenttype[i] == \"Private Equity\":\n",
    "                    tempdic[startup[i]] += inve\n",
    "                    checkinvestor.append(inve)"
   ]
  },
  {
   "cell_type": "code",
   "execution_count": 39,
   "metadata": {},
   "outputs": [],
   "source": [
    "# Now we will will get unique investors from just created list \"checkinvestor\" with their corresponding counts\n",
    "\n",
    "checkinvestor = np.array(checkinvestor)\n",
    "ucheckinvestor = np.unique(checkinvestor, return_counts=True)\n",
    "\n",
    "# Unique investors name\n",
    "\n",
    "uin = ucheckinvestor[0]\n",
    "\n",
    "# Unique investors counts\n",
    "\n",
    "uco = ucheckinvestor[1]"
   ]
  },
  {
   "cell_type": "code",
   "execution_count": 40,
   "metadata": {},
   "outputs": [],
   "source": [
    "# For storing data to create a pie chart we can have seprate empty list\n",
    "\n",
    "pieinv = []\n",
    "piecount = []"
   ]
  },
  {
   "cell_type": "code",
   "execution_count": 41,
   "metadata": {},
   "outputs": [
    {
     "name": "stdout",
     "output_type": "stream",
     "text": [
      "Sequoia Capital 45\n",
      "Accel Partners 44\n",
      "Kalaari Capital 35\n",
      "Blume Ventures 27\n",
      "Tiger Global 25\n"
     ]
    }
   ],
   "source": [
    "# Now we will run loop for 5 times and find max index on basis of count each time \n",
    "# Using that index print investor name and its corresponding count \n",
    "# Then making that count location 0 , so that next time 2nd heighest will be taken as max\n",
    "# Also side by side appending elements in empty list we took for creating Pie chart later\n",
    "\n",
    "for i in range(5):\n",
    "    ind = np.argmax(uco)\n",
    "    print(uin[ind], uco[ind])\n",
    "    pieinv.append(uin[ind])\n",
    "    piecount.append(uco[ind])\n",
    "    uco[ind] = 0"
   ]
  },
  {
   "cell_type": "code",
   "execution_count": 42,
   "metadata": {
    "scrolled": true
   },
   "outputs": [
    {
     "data": {
      "image/png": "[encoded data removed]",
      "text/plain": [
       "<Figure size 432x288 with 1 Axes>"
      ]
     },
     "metadata": {},
     "output_type": "display_data"
    },
    {
     "data": {
      "text/plain": [
       "<Figure size 1152x648 with 0 Axes>"
      ]
     },
     "metadata": {},
     "output_type": "display_data"
    }
   ],
   "source": [
    "# Plotting Pie Chart\n",
    "\n",
    "plt.pie(piecount, labels=pieinv, autopct=\"%.2f%%\", counterclock=False, startangle=90,\n",
    "        explode=[0.1, 0, 0, 0, 0], shadow=True)\n",
    "style.use('ggplot')\n",
    "plt.title(\"Top 5 Investors (For Expanding investor)\", size=20)\n",
    "plt.grid()\n",
    "plt.figure(figsize=(16, 9))\n",
    "plt.show()"
   ]
  },
  {
   "cell_type": "markdown",
   "metadata": {},
   "source": [
    "<b><a1><u>Answer to ASK 5</u></a1></b>\n",
    "<i>  Pie chart clearly specifies the top 5 investors , and among them \"Sequoia Capital\" has done maximum investment in diffrent companies <br> and investmenttype is \"Private Equity\" for expanding startup stage </i>"
   ]
  }
 ],
 "metadata": {
  "kernelspec": {
   "display_name": "Python 3",
   "language": "python",
   "name": "python3"
  },
  "language_info": {
   "codemirror_mode": {
    "name": "ipython",
    "version": 3
   },
   "file_extension": ".py",
   "mimetype": "text/x-python",
   "name": "python",
   "nbconvert_exporter": "python",
   "pygments_lexer": "ipython3",
   "version": "3.8.5"
  }
 },
 "nbformat": 4,
 "nbformat_minor": 4
}
